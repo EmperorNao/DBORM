{
 "cells": [
  {
   "cell_type": "code",
   "execution_count": null,
   "id": "2d835747",
   "metadata": {},
   "outputs": [],
   "source": [
    "x = []\n",
    "orm_insert = []\n",
    "orm_extract = []\n",
    "libpq_insert = []\n",
    "libpq_extract = []\n",
    "\n",
    "with open(\"plot.txt\") as file:\n",
    "    lines = file.readlines()\n",
    "    for i in range(0, len(lines), 5):\n",
    "        x.append(int(lines[i]))\n",
    "        orm_insert.append(float(lines[i + 1]))\n",
    "        orm_extract.append(float(lines[i + 2]))\n",
    "        libpq_insert.append(float(lines[i + 3]))\n",
    "        libpq_extract.append(float(lines[i + 4]))        "
   ]
  }
 ],
 "metadata": {
  "kernelspec": {
   "display_name": "Python 3 (ipykernel)",
   "language": "python",
   "name": "python3"
  },
  "language_info": {
   "codemirror_mode": {
    "name": "ipython",
    "version": 3
   },
   "file_extension": ".py",
   "mimetype": "text/x-python",
   "name": "python",
   "nbconvert_exporter": "python",
   "pygments_lexer": "ipython3",
   "version": "3.9.7"
  }
 },
 "nbformat": 4,
 "nbformat_minor": 5
}
